{
 "cells": [
  {
   "cell_type": "code",
   "execution_count": null,
   "metadata": {},
   "outputs": [],
   "source": [
    "import numpy as np\n",
    "import pandas as pd\n",
    "import librosa"
   ]
  },
  {
   "cell_type": "code",
   "execution_count": null,
   "metadata": {},
   "outputs": [],
   "source": [
    "PATH_METADATA = \"musicnet_metadata.csv\"\n",
    "\n",
    "PATH_DATA = \"musicnet/data/\"\n",
    "PATH_LABELS = \"musicnet/labels/\"\n",
    "\n",
    "PATH_TRAIN_DATA = \"musicnet/train_data/\"\n",
    "PATH_TRAIN_LABELS = \"musicnet/train_labels/\"\n",
    "PATH_TEST_DATA = \"musicnet/test_data/\"\n",
    "PATH_TEST_LABELS = \"musicnet/test_labels/\""
   ]
  },
  {
   "cell_type": "code",
   "execution_count": null,
   "metadata": {},
   "outputs": [],
   "source": [
    "ORIGINAL_SR = 44100\n",
    "TARGET_SR = 16000\n",
    "FMIN = librosa.note_to_hz(\"A0\")\n",
    "FMIN_MIDI_INDEX = librosa.note_to_midi(\"A0\")\n",
    "N_NOTES = 88\n",
    "BINS_PER_NOTE = 3\n",
    "BINS_PER_OCTAVE = 12 * BINS_PER_NOTE\n",
    "N_BINS = N_NOTES * BINS_PER_NOTE\n",
    "\n",
    "WINDOW_LENGTH = 2048\n",
    "HOP_LENGTH = 512\n",
    "\n",
    "frac_sr = TARGET_SR / ORIGINAL_SR # samples in the csv have to be adjusted because we downsample\n",
    "sample_indexer = frac_sr / HOP_LENGTH # samples in the csv have to be adjusted because the cqt groups them in windows\n",
    "\n",
    "\n",
    "# Load wav files, downsample the contents, compute their CQT spectrum, and save it with the same name to the same location as a binary file\n",
    "def process_wav(id):\n",
    "    #path_train = PATH_TRAIN_DATA + str(id)\n",
    "    #path_test = PATH_TEST_DATA + str(id)\n",
    "    #path = path_train if os.path.isfile(path_train + \".wav\") else path_test\n",
    "    path = PATH_DATA + str(id)\n",
    "\n",
    "    data_downsampled, sr = librosa.load(path + \".wav\", sr=TARGET_SR, res_type='kaiser_best')\n",
    "    data_cqt = np.abs(librosa.cqt(data_downsampled, sr=sr, hop_length=HOP_LENGTH, fmin=FMIN, n_bins=N_BINS, bins_per_octave=BINS_PER_OCTAVE))\n",
    "    np.save(path, data_cqt)\n",
    "\n",
    "    return data_cqt.shape[1]\n",
    "\n",
    "\n",
    "# Load csv files, transcribe the content to an array of 88 zeros and ones, and save it with the same name to the same location as a binary file\n",
    "def process_csv(id, n_samples):\n",
    "    #path_train = PATH_TRAIN_LABELS + str(id)\n",
    "    #path_test = PATH_TEST_LABELS + str(id)\n",
    "    #path = path_train if os.path.isfile(path_train + \".csv\") else path_test\n",
    "    path = PATH_LABELS + str(id)\n",
    "\n",
    "    labels = np.zeros((n_samples, N_NOTES))\n",
    "    labels_file = np.loadtxt(path + \".csv\", delimiter=\",\", usecols=[0, 1, 3], skiprows=1)\n",
    "\n",
    "    for line in labels_file:\n",
    "        initial_frame = round(line[0] * sample_indexer)\n",
    "        final_frame = round(line[1] * sample_indexer)\n",
    "        pitch = round(line[2] - FMIN_MIDI_INDEX)\n",
    "        labels[initial_frame:final_frame, pitch] = 1\n",
    "\n",
    "    np.save(path, labels)"
   ]
  },
  {
   "cell_type": "code",
   "execution_count": null,
   "metadata": {},
   "outputs": [],
   "source": [
    "# Load metadata from csv file and filter out non-piano music files\n",
    "metadata = pd.read_csv(PATH_METADATA)\n",
    "metadata.drop(metadata[metadata[\"ensemble\"] != \"Solo Piano\"].index, inplace = True)\n",
    "len(metadata)"
   ]
  },
  {
   "cell_type": "code",
   "execution_count": null,
   "metadata": {},
   "outputs": [],
   "source": [
    "ids = metadata[\"id\"].to_numpy()\n",
    "print(\"Files to process: \", len(ids))\n",
    "for id in ids:\n",
    "    print(f'Processing {id}...')\n",
    "    n_samples = process_wav(id)\n",
    "    process_csv(id, n_samples)\n",
    "\n",
    "print(\"Finished\")"
   ]
  }
 ],
 "metadata": {
  "kernelspec": {
   "display_name": "Python 3",
   "language": "python",
   "name": "python3"
  },
  "language_info": {
   "codemirror_mode": {
    "name": "ipython",
    "version": 3
   },
   "file_extension": ".py",
   "mimetype": "text/x-python",
   "name": "python",
   "nbconvert_exporter": "python",
   "pygments_lexer": "ipython3",
   "version": "3.9.7"
  }
 },
 "nbformat": 4,
 "nbformat_minor": 2
}
