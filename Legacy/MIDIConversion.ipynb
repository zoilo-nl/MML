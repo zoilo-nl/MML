{
 "cells": [
  {
   "cell_type": "code",
   "execution_count": 234,
   "metadata": {},
   "outputs": [],
   "source": [
    "import numpy as np\n",
    "import librosa"
   ]
  },
  {
   "cell_type": "code",
   "execution_count": 235,
   "metadata": {},
   "outputs": [],
   "source": [
    "PATH_METADATA = \"musicnet_metadata.csv\"\n",
    "\n",
    "PATH_DATA = \"musicnet/data/\"\n",
    "PATH_LABELS = \"musicnet/labels/\"\n",
    "\n",
    "PATH_TRAIN_DATA = \"musicnet/train_data/\"\n",
    "PATH_TRAIN_LABELS = \"musicnet/train_labels/\"\n",
    "PATH_TEST_DATA = \"musicnet/test_data/\"\n",
    "PATH_TEST_LABELS = \"musicnet/test_labels/\""
   ]
  },
  {
   "cell_type": "code",
   "execution_count": 236,
   "metadata": {},
   "outputs": [],
   "source": [
    "ORIGINAL_SR = 44100\n",
    "TARGET_SR = 16000\n",
    "FMIN = librosa.note_to_hz(\"A0\")\n",
    "FMIN_MIDI_INDEX = librosa.note_to_midi(\"A0\")\n",
    "N_NOTES = 88\n",
    "BINS_PER_NOTE = 3\n",
    "BINS_PER_OCTAVE = 12 * BINS_PER_NOTE\n",
    "N_BINS = N_NOTES * BINS_PER_NOTE\n",
    "\n",
    "WINDOW_LENGTH = 2048\n",
    "HOP_LENGTH = 512\n",
    "\n",
    "frac_sr = TARGET_SR / ORIGINAL_SR\n",
    "sample_indexer = frac_sr / HOP_LENGTH"
   ]
  },
  {
   "cell_type": "code",
   "execution_count": 237,
   "metadata": {},
   "outputs": [],
   "source": [
    "FRAME_DURATION = HOP_LENGTH/TARGET_SR # Frame duration in seconds\n",
    "FRAMERATE = 1/FRAME_DURATION # Frames per second"
   ]
  },
  {
   "cell_type": "code",
   "execution_count": 238,
   "metadata": {},
   "outputs": [],
   "source": [
    "import pretty_midi\n",
    "\n",
    "def piano_roll_to_pretty_midi(piano_roll, fs=100, program=0):\n",
    "    '''Convert a Piano Roll array into a PrettyMidi object\n",
    "     with a single instrument.\n",
    "    Parameters\n",
    "    ----------\n",
    "    piano_roll : np.ndarray, shape=(128,frames), dtype=int\n",
    "        Piano roll of one instrument\n",
    "    fs : int\n",
    "        Sampling frequency of the columns, i.e. each column is spaced apart\n",
    "        by ``1./fs`` seconds.\n",
    "    program : int\n",
    "        The program number of the instrument.\n",
    "    Returns\n",
    "    -------\n",
    "    midi_object : pretty_midi.PrettyMIDI\n",
    "        A pretty_midi.PrettyMIDI class instance describing\n",
    "        the piano roll.\n",
    "    '''\n",
    "    notes, frames = piano_roll.shape\n",
    "    pm = pretty_midi.PrettyMIDI()\n",
    "    instrument = pretty_midi.Instrument(program=program)\n",
    "\n",
    "    # pad 1 column of zeros so we can acknowledge inital and ending events\n",
    "    piano_roll = np.pad(piano_roll, [(0, 0), (1, 1)], 'constant')\n",
    "\n",
    "    # use changes in velocities to find note on / note off events\n",
    "    velocity_changes = np.nonzero(np.diff(piano_roll).T)\n",
    "\n",
    "    # keep track on velocities and note on times\n",
    "    prev_velocities = np.zeros(notes, dtype=int)\n",
    "    note_on_time = np.zeros(notes)\n",
    "\n",
    "    for time, note in zip(*velocity_changes):\n",
    "        # use time + 1 because of padding above\n",
    "        velocity = piano_roll[note, time + 1]\n",
    "        time = time / fs\n",
    "        if velocity > 0:\n",
    "            if prev_velocities[note] == 0:\n",
    "                note_on_time[note] = time\n",
    "                prev_velocities[note] = velocity\n",
    "        else:\n",
    "            pm_note = pretty_midi.Note(\n",
    "                velocity=prev_velocities[note],\n",
    "                pitch=note + FMIN_MIDI_INDEX,\n",
    "                start=note_on_time[note],\n",
    "                end=time)\n",
    "            instrument.notes.append(pm_note)\n",
    "            prev_velocities[note] = 0\n",
    "    pm.instruments.append(instrument)\n",
    "    \n",
    "    return pm"
   ]
  },
  {
   "cell_type": "code",
   "execution_count": 239,
   "metadata": {},
   "outputs": [],
   "source": [
    "import mido\n",
    "from mido import Message, MidiFile, MidiTrack\n",
    "\n",
    "def data_to_mido(data, bpm=60):\n",
    "\n",
    "    PPQN = FRAMERATE*12 # Pulses per quarter note\n",
    "    TEMPO = mido.bpm2tempo(bpm) # MIDI Tempo, microseconds per beat\n",
    "    \n",
    "    n_notes, n_frames = data.shape\n",
    "\n",
    "    # pad zeros so we can acknowledge inital and ending events\n",
    "    data = np.pad(data, [(0, 0), (1, 1)], 'constant')\n",
    "\n",
    "    mid = MidiFile()\n",
    "    \n",
    "    for i in range(n_notes):\n",
    "        note = i + FMIN_MIDI_INDEX # add the MIDI index\n",
    "        changes = np.nonzero(np.diff(data[i]))[0] # list with the index where the array changes from 0 to 1 or vice versa\n",
    "        if len(changes):\n",
    "            t = round(mido.second2tick(FRAME_DURATION*changes[0], PPQN, TEMPO))\n",
    "            track = MidiTrack()\n",
    "            track.append(Message('program_change', program=0, time=t)) # program 0 is Acoustic Grand Piano\n",
    "            for j in np.diff(changes):\n",
    "                t = round(mido.second2tick(FRAME_DURATION*j, PPQN, TEMPO))\n",
    "                track.append(Message('note_on', channel=0, note=note, velocity=64, time=t))\n",
    "                track.append(Message('note_off', channel=0, note=note, velocity=0, time=0))\n",
    "            \n",
    "            mid.tracks.append(track)\n",
    "\n",
    "    return mid"
   ]
  },
  {
   "cell_type": "code",
   "execution_count": 240,
   "metadata": {},
   "outputs": [],
   "source": [
    "import midi\n",
    "\n",
    "def data_to_midi(data, bpm=60):\n",
    "\n",
    "    SCALER = 4 # Aribtrary value to round up the PPQN and not lose accuracy\n",
    "    PPQN = FRAMERATE*SCALER # Pulses per quarter note\n",
    "\n",
    "    pattern = midi.Pattern(resolution=round(PPQN))\n",
    "    track = midi.Track()\n",
    "    tempo_event = midi.events.SetTempoEvent()\n",
    "    tempo_event.set_bpm(bpm)\n",
    "    track.append(tempo_event)\n",
    "\n",
    "    note_array = np.zeros(N_NOTES, dtype=int)\n",
    "    num_pitches, num_frames = data.shape\n",
    "    track.make_ticks_abs()\n",
    "    for t in range(num_frames):\n",
    "        for pitch in range(num_pitches):\n",
    "            pressed = data[pitch][t]\n",
    "            if pressed == 1 and note_array[pitch] == 0:\n",
    "                track.append(midi.NoteOnEvent(tick=t*SCALER, pitch=pitch+FMIN_MIDI_INDEX, velocity=64))\n",
    "                note_array[pitch] = 1\n",
    "            elif pressed == 0 and note_array[pitch] == 1:\n",
    "                track.append(midi.NoteOnEvent(tick=t*SCALER, pitch=pitch+FMIN_MIDI_INDEX, velocity=0))\n",
    "                note_array[pitch] = 0\n",
    "    track.append(midi.EndOfTrackEvent(tick=t*SCALER))\n",
    "    track.make_ticks_rel()\n",
    "\n",
    "    pattern.append(track)\n",
    "    return pattern"
   ]
  },
  {
   "cell_type": "code",
   "execution_count": 247,
   "metadata": {},
   "outputs": [],
   "source": [
    "import midi\n",
    "\n",
    "def data_to_midi2(data, bpm=60):\n",
    "    \n",
    "    SCALER = 4 # Aribtrary value to round up the PPQN and not lose accuracy\n",
    "    PPQN = FRAMERATE*SCALER # Pulses per quarter note\n",
    "\n",
    "    pattern = midi.Pattern(resolution=round(PPQN))\n",
    "    track = midi.Track()\n",
    "    tempo_event = midi.events.SetTempoEvent()\n",
    "    tempo_event.set_bpm(bpm)\n",
    "    track.append(tempo_event)\n",
    "\n",
    "    num_pitches, num_frames = data.shape\n",
    "    for pitch in range(num_pitches):\n",
    "        midi_pitch = pitch + FMIN_MIDI_INDEX # add the MIDI index\n",
    "        changes = np.nonzero(np.diff(data[pitch]))[0] # list with the index where the array changes from 0 to 1 or vice versa\n",
    "        if len(changes):\n",
    "            for j,k in zip(changes[0::2], changes[1::2]):\n",
    "                track.append(midi.NoteOnEvent(tick=j*SCALER, pitch=midi_pitch, velocity=64))\n",
    "                track.append(midi.NoteOnEvent(tick=k*SCALER, pitch=midi_pitch, velocity=0))\n",
    "    track.append(midi.EndOfTrackEvent(tick=num_frames*SCALER))\n",
    "\n",
    "    pattern.append(track)\n",
    "    return pattern"
   ]
  },
  {
   "cell_type": "code",
   "execution_count": 242,
   "metadata": {},
   "outputs": [],
   "source": [
    "filename = \"2303\"\n",
    "data = np.load(filename+\"_prediction.npy\")\n",
    "bpm = 106 # Beats per minute"
   ]
  },
  {
   "cell_type": "code",
   "execution_count": 243,
   "metadata": {},
   "outputs": [],
   "source": [
    "a = piano_roll_to_pretty_midi(data)\n",
    "a.write(filename+'_pretty.mid')"
   ]
  },
  {
   "cell_type": "code",
   "execution_count": 244,
   "metadata": {},
   "outputs": [],
   "source": [
    "b = data_to_mido(data)\n",
    "b.save(filename+'_mido.mid')"
   ]
  },
  {
   "cell_type": "code",
   "execution_count": 245,
   "metadata": {},
   "outputs": [],
   "source": [
    "c = data_to_midi(data)\n",
    "midi.write_midifile(filename+'_midi1.mid', c)"
   ]
  },
  {
   "cell_type": "code",
   "execution_count": 248,
   "metadata": {},
   "outputs": [
    {
     "ename": "AssertionError",
     "evalue": "3436",
     "output_type": "error",
     "traceback": [
      "\u001b[1;31m---------------------------------------------------------------------------\u001b[0m",
      "\u001b[1;31mAssertionError\u001b[0m                            Traceback (most recent call last)",
      "\u001b[1;32m~\\AppData\\Local\\Temp/ipykernel_5404/3839213215.py\u001b[0m in \u001b[0;36m<module>\u001b[1;34m\u001b[0m\n\u001b[0;32m      1\u001b[0m \u001b[0md\u001b[0m \u001b[1;33m=\u001b[0m \u001b[0mdata_to_midi2\u001b[0m\u001b[1;33m(\u001b[0m\u001b[0mdata\u001b[0m\u001b[1;33m)\u001b[0m\u001b[1;33m\u001b[0m\u001b[1;33m\u001b[0m\u001b[0m\n\u001b[1;32m----> 2\u001b[1;33m \u001b[0mmidi\u001b[0m\u001b[1;33m.\u001b[0m\u001b[0mwrite_midifile\u001b[0m\u001b[1;33m(\u001b[0m\u001b[0mfilename\u001b[0m\u001b[1;33m+\u001b[0m\u001b[1;34m'_midi2.mid'\u001b[0m\u001b[1;33m,\u001b[0m \u001b[0md\u001b[0m\u001b[1;33m)\u001b[0m\u001b[1;33m\u001b[0m\u001b[1;33m\u001b[0m\u001b[0m\n\u001b[0m",
      "\u001b[1;32mc:\\Users\\Zoilo\\.venv_ml\\lib\\site-packages\\midi\\fileio.py\u001b[0m in \u001b[0;36mwrite_midifile\u001b[1;34m(midifile, pattern)\u001b[0m\n\u001b[0;32m    167\u001b[0m     \u001b[1;32mif\u001b[0m \u001b[0mtype\u001b[0m\u001b[1;33m(\u001b[0m\u001b[0mmidifile\u001b[0m\u001b[1;33m)\u001b[0m \u001b[1;32min\u001b[0m \u001b[1;33m(\u001b[0m\u001b[0mstr\u001b[0m\u001b[1;33m,\u001b[0m \u001b[0mstr\u001b[0m\u001b[1;33m)\u001b[0m\u001b[1;33m:\u001b[0m\u001b[1;33m\u001b[0m\u001b[1;33m\u001b[0m\u001b[0m\n\u001b[0;32m    168\u001b[0m         \u001b[1;32mwith\u001b[0m \u001b[0mopen\u001b[0m\u001b[1;33m(\u001b[0m\u001b[0mmidifile\u001b[0m\u001b[1;33m,\u001b[0m \u001b[1;34m'wb'\u001b[0m\u001b[1;33m)\u001b[0m \u001b[1;32mas\u001b[0m \u001b[0mout\u001b[0m\u001b[1;33m:\u001b[0m\u001b[1;33m\u001b[0m\u001b[1;33m\u001b[0m\u001b[0m\n\u001b[1;32m--> 169\u001b[1;33m             \u001b[1;32mreturn\u001b[0m \u001b[0mwrite_midifile\u001b[0m\u001b[1;33m(\u001b[0m\u001b[0mout\u001b[0m\u001b[1;33m,\u001b[0m\u001b[0mpattern\u001b[0m\u001b[1;33m)\u001b[0m\u001b[1;33m\u001b[0m\u001b[1;33m\u001b[0m\u001b[0m\n\u001b[0m\u001b[0;32m    170\u001b[0m     \u001b[0mwriter\u001b[0m \u001b[1;33m=\u001b[0m \u001b[0mFileWriter\u001b[0m\u001b[1;33m(\u001b[0m\u001b[0mmidifile\u001b[0m\u001b[1;33m)\u001b[0m\u001b[1;33m\u001b[0m\u001b[1;33m\u001b[0m\u001b[0m\n\u001b[0;32m    171\u001b[0m     \u001b[1;32mreturn\u001b[0m \u001b[0mwriter\u001b[0m\u001b[1;33m.\u001b[0m\u001b[0mwrite\u001b[0m\u001b[1;33m(\u001b[0m\u001b[0mpattern\u001b[0m\u001b[1;33m)\u001b[0m\u001b[1;33m\u001b[0m\u001b[1;33m\u001b[0m\u001b[0m\n",
      "\u001b[1;32mc:\\Users\\Zoilo\\.venv_ml\\lib\\site-packages\\midi\\fileio.py\u001b[0m in \u001b[0;36mwrite_midifile\u001b[1;34m(midifile, pattern)\u001b[0m\n\u001b[0;32m    169\u001b[0m             \u001b[1;32mreturn\u001b[0m \u001b[0mwrite_midifile\u001b[0m\u001b[1;33m(\u001b[0m\u001b[0mout\u001b[0m\u001b[1;33m,\u001b[0m\u001b[0mpattern\u001b[0m\u001b[1;33m)\u001b[0m\u001b[1;33m\u001b[0m\u001b[1;33m\u001b[0m\u001b[0m\n\u001b[0;32m    170\u001b[0m     \u001b[0mwriter\u001b[0m \u001b[1;33m=\u001b[0m \u001b[0mFileWriter\u001b[0m\u001b[1;33m(\u001b[0m\u001b[0mmidifile\u001b[0m\u001b[1;33m)\u001b[0m\u001b[1;33m\u001b[0m\u001b[1;33m\u001b[0m\u001b[0m\n\u001b[1;32m--> 171\u001b[1;33m     \u001b[1;32mreturn\u001b[0m \u001b[0mwriter\u001b[0m\u001b[1;33m.\u001b[0m\u001b[0mwrite\u001b[0m\u001b[1;33m(\u001b[0m\u001b[0mpattern\u001b[0m\u001b[1;33m)\u001b[0m\u001b[1;33m\u001b[0m\u001b[1;33m\u001b[0m\u001b[0m\n\u001b[0m\u001b[0;32m    172\u001b[0m \u001b[1;33m\u001b[0m\u001b[0m\n\u001b[0;32m    173\u001b[0m \u001b[1;32mdef\u001b[0m \u001b[0mread_midifile\u001b[0m\u001b[1;33m(\u001b[0m\u001b[0mmidifile\u001b[0m\u001b[1;33m)\u001b[0m\u001b[1;33m:\u001b[0m\u001b[1;33m\u001b[0m\u001b[1;33m\u001b[0m\u001b[0m\n",
      "\u001b[1;32mc:\\Users\\Zoilo\\.venv_ml\\lib\\site-packages\\midi\\fileio.py\u001b[0m in \u001b[0;36mwrite\u001b[1;34m(self, pattern)\u001b[0m\n\u001b[0;32m    103\u001b[0m         \u001b[0mself\u001b[0m\u001b[1;33m.\u001b[0m\u001b[0mwrite_file_header\u001b[0m\u001b[1;33m(\u001b[0m\u001b[0mpattern\u001b[0m\u001b[1;33m,\u001b[0m\u001b[0mlen\u001b[0m\u001b[1;33m(\u001b[0m\u001b[0mpattern\u001b[0m\u001b[1;33m)\u001b[0m\u001b[1;33m)\u001b[0m\u001b[1;33m\u001b[0m\u001b[1;33m\u001b[0m\u001b[0m\n\u001b[0;32m    104\u001b[0m         \u001b[1;32mfor\u001b[0m \u001b[0mtrack\u001b[0m \u001b[1;32min\u001b[0m \u001b[0mpattern\u001b[0m\u001b[1;33m:\u001b[0m\u001b[1;33m\u001b[0m\u001b[1;33m\u001b[0m\u001b[0m\n\u001b[1;32m--> 105\u001b[1;33m             \u001b[0mself\u001b[0m\u001b[1;33m.\u001b[0m\u001b[0mwrite_track\u001b[0m\u001b[1;33m(\u001b[0m\u001b[0mtrack\u001b[0m\u001b[1;33m)\u001b[0m\u001b[1;33m\u001b[0m\u001b[1;33m\u001b[0m\u001b[0m\n\u001b[0m\u001b[0;32m    106\u001b[0m \u001b[1;33m\u001b[0m\u001b[0m\n\u001b[0;32m    107\u001b[0m     \u001b[1;32mdef\u001b[0m \u001b[0mwrite_file_header\u001b[0m\u001b[1;33m(\u001b[0m\u001b[0mself\u001b[0m\u001b[1;33m,\u001b[0m \u001b[0mpattern\u001b[0m\u001b[1;33m,\u001b[0m \u001b[0mlength\u001b[0m\u001b[1;33m=\u001b[0m\u001b[1;32mNone\u001b[0m\u001b[1;33m)\u001b[0m\u001b[1;33m:\u001b[0m\u001b[1;33m\u001b[0m\u001b[1;33m\u001b[0m\u001b[0m\n",
      "\u001b[1;32mc:\\Users\\Zoilo\\.venv_ml\\lib\\site-packages\\midi\\fileio.py\u001b[0m in \u001b[0;36mwrite_track\u001b[1;34m(self, track)\u001b[0m\n\u001b[0;32m    120\u001b[0m         \u001b[0mbuf\u001b[0m \u001b[1;33m=\u001b[0m \u001b[0mbytearray\u001b[0m\u001b[1;33m(\u001b[0m\u001b[1;34mb'0'\u001b[0m\u001b[1;33m*\u001b[0m\u001b[0mhlen\u001b[0m\u001b[1;33m)\u001b[0m\u001b[1;33m\u001b[0m\u001b[1;33m\u001b[0m\u001b[0m\n\u001b[0;32m    121\u001b[0m         \u001b[1;32mfor\u001b[0m \u001b[0mevent\u001b[0m \u001b[1;32min\u001b[0m \u001b[0mtrack\u001b[0m\u001b[1;33m:\u001b[0m\u001b[1;33m\u001b[0m\u001b[1;33m\u001b[0m\u001b[0m\n\u001b[1;32m--> 122\u001b[1;33m             \u001b[0mbuf\u001b[0m\u001b[1;33m.\u001b[0m\u001b[0mextend\u001b[0m\u001b[1;33m(\u001b[0m\u001b[0mself\u001b[0m\u001b[1;33m.\u001b[0m\u001b[0mencode_midi_event\u001b[0m\u001b[1;33m(\u001b[0m\u001b[0mevent\u001b[0m\u001b[1;33m)\u001b[0m\u001b[1;33m)\u001b[0m\u001b[1;33m\u001b[0m\u001b[1;33m\u001b[0m\u001b[0m\n\u001b[0m\u001b[0;32m    123\u001b[0m         \u001b[0mbuf\u001b[0m\u001b[1;33m[\u001b[0m\u001b[1;33m:\u001b[0m\u001b[0mhlen\u001b[0m\u001b[1;33m]\u001b[0m \u001b[1;33m=\u001b[0m \u001b[0mself\u001b[0m\u001b[1;33m.\u001b[0m\u001b[0mencode_track_header\u001b[0m\u001b[1;33m(\u001b[0m\u001b[0mlen\u001b[0m\u001b[1;33m(\u001b[0m\u001b[0mbuf\u001b[0m\u001b[1;33m)\u001b[0m\u001b[1;33m-\u001b[0m\u001b[0mhlen\u001b[0m\u001b[1;33m)\u001b[0m\u001b[1;33m\u001b[0m\u001b[1;33m\u001b[0m\u001b[0m\n\u001b[0;32m    124\u001b[0m         \u001b[0mself\u001b[0m\u001b[1;33m.\u001b[0m\u001b[0mfile\u001b[0m\u001b[1;33m.\u001b[0m\u001b[0mwrite\u001b[0m\u001b[1;33m(\u001b[0m\u001b[0mbuf\u001b[0m\u001b[1;33m)\u001b[0m\u001b[1;33m\u001b[0m\u001b[1;33m\u001b[0m\u001b[0m\n",
      "\u001b[1;32mc:\\Users\\Zoilo\\.venv_ml\\lib\\site-packages\\midi\\fileio.py\u001b[0m in \u001b[0;36mencode_midi_event\u001b[1;34m(self, event)\u001b[0m\n\u001b[0;32m    139\u001b[0m         \u001b[0mret\u001b[0m \u001b[1;33m=\u001b[0m \u001b[0mbytearray\u001b[0m\u001b[1;33m(\u001b[0m\u001b[1;33m)\u001b[0m\u001b[1;33m\u001b[0m\u001b[1;33m\u001b[0m\u001b[0m\n\u001b[0;32m    140\u001b[0m         \u001b[1;31m#assert hasattr(event,'tick'), event\u001b[0m\u001b[1;33m\u001b[0m\u001b[1;33m\u001b[0m\u001b[0m\n\u001b[1;32m--> 141\u001b[1;33m         \u001b[1;32massert\u001b[0m \u001b[0misinstance\u001b[0m\u001b[1;33m(\u001b[0m\u001b[0mevent\u001b[0m\u001b[1;33m.\u001b[0m\u001b[0mtick\u001b[0m\u001b[1;33m,\u001b[0m\u001b[0mint\u001b[0m\u001b[1;33m)\u001b[0m\u001b[1;33m,\u001b[0m \u001b[0mevent\u001b[0m\u001b[1;33m.\u001b[0m\u001b[0mtick\u001b[0m\u001b[1;33m\u001b[0m\u001b[1;33m\u001b[0m\u001b[0m\n\u001b[0m\u001b[0;32m    142\u001b[0m         \u001b[0mret\u001b[0m\u001b[1;33m.\u001b[0m\u001b[0mextend\u001b[0m\u001b[1;33m(\u001b[0m\u001b[0mwrite_varlen\u001b[0m\u001b[1;33m(\u001b[0m\u001b[0mevent\u001b[0m\u001b[1;33m.\u001b[0m\u001b[0mtick\u001b[0m\u001b[1;33m)\u001b[0m\u001b[1;33m)\u001b[0m\u001b[1;33m\u001b[0m\u001b[1;33m\u001b[0m\u001b[0m\n\u001b[0;32m    143\u001b[0m         \u001b[1;31m# is the event a MetaEvent?\u001b[0m\u001b[1;33m\u001b[0m\u001b[1;33m\u001b[0m\u001b[0m\n",
      "\u001b[1;31mAssertionError\u001b[0m: 3436"
     ]
    }
   ],
   "source": [
    "d = data_to_midi2(data)\n",
    "midi.write_midifile(filename+'_midi2.mid', d)"
   ]
  }
 ],
 "metadata": {
  "kernelspec": {
   "display_name": "Python 3",
   "language": "python",
   "name": "python3"
  },
  "language_info": {
   "codemirror_mode": {
    "name": "ipython",
    "version": 3
   },
   "file_extension": ".py",
   "mimetype": "text/x-python",
   "name": "python",
   "nbconvert_exporter": "python",
   "pygments_lexer": "ipython3",
   "version": "3.9.7"
  }
 },
 "nbformat": 4,
 "nbformat_minor": 2
}
