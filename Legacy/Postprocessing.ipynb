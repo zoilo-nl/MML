{
 "cells": [
  {
   "cell_type": "code",
   "execution_count": null,
   "metadata": {},
   "outputs": [],
   "source": [
    "def post_process(y, min_rest_len, min_note_len = -1):\n",
    "    for i in range(y.shape[1]):\n",
    "        rest_count = 0\n",
    "        note_count = 0\n",
    "        for j in range(y.shape[0]):\n",
    "            #If the preceeding and the current event is a rest, keep counting rests\n",
    "            if y[j,i] == 0 and (counting_rests == True or j+1<min_rest_len): \n",
    "                counting_rests = True\n",
    "                rest_count = rest_count + 1\n",
    "            #If the preceeding and the current event is a note, keep counting notes\n",
    "            elif y[j,i] == 1 and (counting_rests ==False or j+1<min_note_len):\n",
    "                counting_rests = False\n",
    "                note_count = note_count +1\n",
    "            elif y[j,i] == 0: \n",
    "                counting_rests = True\n",
    "                #If it is a first rest, and the amount of notes preceeding it is too little\n",
    "                if note_count < min_note_len:\n",
    "                    y[j-note_count:j,i] = 0\n",
    "                    rest_count = rest_count+ note_count +1\n",
    "                    note_count = 0\n",
    "                #If it is a first rest, and the amount of notes preceeding it is long enough\n",
    "                else:\n",
    "                    rest_count = 1\n",
    "            elif y[j,i] == 1:\n",
    "                counting_rests = False\n",
    "                #If it is a note note, and the amount of rests preceeding it is too little\n",
    "                if rest_count < min_rest_len:\n",
    "                    y[j-rest_count:j,i] = 1\n",
    "                    note_count = note_count+ rest_count+1\n",
    "                    rest_count = 0\n",
    "                #If it is a first note, and the amount of rests preceeding it is long enough\n",
    "                else:\n",
    "                    note_count = 1\n",
    "    return y\n"
   ]
  }
 ],
 "metadata": {
  "language_info": {
   "name": "python"
  },
  "orig_nbformat": 4
 },
 "nbformat": 4,
 "nbformat_minor": 2
}
