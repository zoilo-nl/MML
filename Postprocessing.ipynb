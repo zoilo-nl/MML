{
 "cells": [
  {
   "cell_type": "code",
   "execution_count": null,
   "metadata": {},
   "outputs": [],
   "source": [
    "plt.plot(history.history['accuracy'])\n",
    "plt.plot(history.history['val_accuracy'])\n",
    "plt.title('Model accuracy')\n",
    "plt.xlabel('Epoch')\n",
    "plt.ylabel('Accuracy')\n",
    "# plt.ylim(0, 1)\n",
    "plt.legend(['Training data', 'Validation data'], loc='lower right')\n",
    "plt.show()"
   ]
  },
  {
   "cell_type": "code",
   "execution_count": null,
   "metadata": {},
   "outputs": [],
   "source": [
    "plt.plot(history.history['loss'])\n",
    "plt.plot(history.history['val_loss'])\n",
    "plt.title('Model loss')\n",
    "plt.xlabel('Epoch')\n",
    "plt.ylabel('Loss')\n",
    "# plt.ylim(0, 1)\n",
    "plt.legend(['Training data', 'Validation data'], loc='lower right')\n",
    "plt.show()"
   ]
  },
  {
   "cell_type": "code",
   "execution_count": null,
   "metadata": {},
   "outputs": [],
   "source": [
    "score = model.evaluate(x_test, y_test)"
   ]
  },
  {
   "cell_type": "code",
   "execution_count": null,
   "metadata": {},
   "outputs": [],
   "source": [
    "x = np.load(PATH_TEST_DATA+\"2303\"+ \".npy\" ).transpose()\n",
    "y = np.load(PATH_TEST_LABELS+\"2303\"+ \".npy\" )\n",
    "\n",
    "prediction = model.predict(x).round().transpose()\n",
    "truth = y.transpose()\n",
    "\n",
    "print(prediction.shape)\n",
    "print(truth.shape)\n",
    "\n",
    "end_seconds = 100\n",
    "end_index = round(end_seconds/(0.032))\n",
    "\n",
    "plt.figure()\n",
    "plt.subplot()\n",
    "plt.imshow(truth[:,0:end_index],cmap='Greys',aspect='auto')\n",
    "\n",
    "plt.figure()\n",
    "plt.subplot()\n",
    "plt.imshow(prediction[:,0:end_index],cmap='Greys',aspect='auto')"
   ]
  },
  {
   "cell_type": "code",
   "execution_count": null,
   "metadata": {},
   "outputs": [],
   "source": [
    "def post_process(y, min_rest_len, min_note_len = -1):\n",
    "    for i in range(y.shape[1]):\n",
    "        rest_count = 0\n",
    "        note_count = 0\n",
    "        for j in range(y.shape[0]):\n",
    "            #If the preceeding and the current event is a rest, keep counting rests\n",
    "            if y[j,i] == 0 and (counting_rests == True or j+1<min_rest_len): \n",
    "                counting_rests = True\n",
    "                rest_count = rest_count + 1\n",
    "            #If the preceeding and the current event is a note, keep counting notes\n",
    "            elif y[j,i] == 1 and (counting_rests ==False or j+1<min_note_len):\n",
    "                counting_rests = False\n",
    "                note_count = note_count +1\n",
    "            elif y[j,i] == 0 : \n",
    "                counting_rests = True\n",
    "                #If it is a first rest, and the amount of notes preceeding it is too little\n",
    "                if note_count < min_note_len:\n",
    "                    y[j-note_count:j,i] = 0\n",
    "                    rest_count = rest_count+ note_count +1\n",
    "                    note_count = 0\n",
    "                #If it is a first rest, and the amount of notes preceeding it is long enough\n",
    "                else:\n",
    "                    rest_count = 1\n",
    "            elif y[j,i] == 1:\n",
    "                counting_rests = False\n",
    "                #If it is a note note, and the amount of rests preceeding it is too little\n",
    "                if rest_count < min_rest_len:\n",
    "                    y[j-rest_count:j,i] = 1\n",
    "                    note_count = note_count+ rest_count+1\n",
    "                    rest_count = 0\n",
    "                #If it is a first note, and the amount of rests preceeding it is long enough\n",
    "                else:\n",
    "                    note_count = 1\n",
    "    return y\n"
   ]
  }
 ],
 "metadata": {
  "language_info": {
   "name": "python"
  },
  "orig_nbformat": 4
 },
 "nbformat": 4,
 "nbformat_minor": 2
}
